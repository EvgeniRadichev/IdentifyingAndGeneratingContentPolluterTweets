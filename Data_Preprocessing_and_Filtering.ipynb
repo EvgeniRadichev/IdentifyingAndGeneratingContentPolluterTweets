{
  "nbformat": 4,
  "nbformat_minor": 0,
  "metadata": {
    "colab": {
      "name": "Data Preprocessing and Classification.ipynb",
      "provenance": [],
      "collapsed_sections": [],
      "toc_visible": true
    },
    "kernelspec": {
      "display_name": "Python 3",
      "name": "python3"
    },
    "language_info": {
      "name": "python"
    }
  },
  "cells": [
    {
      "cell_type": "code",
      "metadata": {
        "colab": {
          "base_uri": "https://localhost:8080/"
        },
        "id": "lYtjnubEakb_",
        "outputId": "9b0e94c7-ca69-4cb2-b565-23e3ec0fb872"
      },
      "source": [
        "from google.colab import drive\n",
        "drive.mount('/content/drive')"
      ],
      "execution_count": null,
      "outputs": [
        {
          "output_type": "stream",
          "text": [
            "Mounted at /content/drive\n"
          ],
          "name": "stdout"
        }
      ]
    },
    {
      "cell_type": "code",
      "metadata": {
        "id": "vSrSDdd9CJRP",
        "colab": {
          "base_uri": "https://localhost:8080/"
        },
        "outputId": "21234b7a-61e7-477f-9d37-36035e0a9a94"
      },
      "source": [
        "# !pip install spacy\n",
        "# !pip install langid\n",
        "\n",
        "import numpy as np\n",
        "import pandas as pd\n",
        "import spacy # fast NLP\n",
        "pd.set_option(\"display.precision\", 2)\n",
        "pd.set_option('display.max_columns', None)"
      ],
      "execution_count": null,
      "outputs": [
        {
          "output_type": "stream",
          "text": [
            "Requirement already satisfied: spacy in /usr/local/lib/python3.7/dist-packages (2.2.4)\n",
            "Requirement already satisfied: setuptools in /usr/local/lib/python3.7/dist-packages (from spacy) (54.2.0)\n",
            "Requirement already satisfied: preshed<3.1.0,>=3.0.2 in /usr/local/lib/python3.7/dist-packages (from spacy) (3.0.5)\n",
            "Requirement already satisfied: thinc==7.4.0 in /usr/local/lib/python3.7/dist-packages (from spacy) (7.4.0)\n",
            "Requirement already satisfied: cymem<2.1.0,>=2.0.2 in /usr/local/lib/python3.7/dist-packages (from spacy) (2.0.5)\n",
            "Requirement already satisfied: blis<0.5.0,>=0.4.0 in /usr/local/lib/python3.7/dist-packages (from spacy) (0.4.1)\n",
            "Requirement already satisfied: requests<3.0.0,>=2.13.0 in /usr/local/lib/python3.7/dist-packages (from spacy) (2.23.0)\n",
            "Requirement already satisfied: murmurhash<1.1.0,>=0.28.0 in /usr/local/lib/python3.7/dist-packages (from spacy) (1.0.5)\n",
            "Requirement already satisfied: numpy>=1.15.0 in /usr/local/lib/python3.7/dist-packages (from spacy) (1.19.5)\n",
            "Requirement already satisfied: tqdm<5.0.0,>=4.38.0 in /usr/local/lib/python3.7/dist-packages (from spacy) (4.41.1)\n",
            "Requirement already satisfied: plac<1.2.0,>=0.9.6 in /usr/local/lib/python3.7/dist-packages (from spacy) (1.1.3)\n",
            "Requirement already satisfied: srsly<1.1.0,>=1.0.2 in /usr/local/lib/python3.7/dist-packages (from spacy) (1.0.5)\n",
            "Requirement already satisfied: wasabi<1.1.0,>=0.4.0 in /usr/local/lib/python3.7/dist-packages (from spacy) (0.8.2)\n",
            "Requirement already satisfied: catalogue<1.1.0,>=0.0.7 in /usr/local/lib/python3.7/dist-packages (from spacy) (1.0.0)\n",
            "Requirement already satisfied: idna<3,>=2.5 in /usr/local/lib/python3.7/dist-packages (from requests<3.0.0,>=2.13.0->spacy) (2.10)\n",
            "Requirement already satisfied: chardet<4,>=3.0.2 in /usr/local/lib/python3.7/dist-packages (from requests<3.0.0,>=2.13.0->spacy) (3.0.4)\n",
            "Requirement already satisfied: certifi>=2017.4.17 in /usr/local/lib/python3.7/dist-packages (from requests<3.0.0,>=2.13.0->spacy) (2020.12.5)\n",
            "Requirement already satisfied: urllib3!=1.25.0,!=1.25.1,<1.26,>=1.21.1 in /usr/local/lib/python3.7/dist-packages (from requests<3.0.0,>=2.13.0->spacy) (1.24.3)\n",
            "Requirement already satisfied: importlib-metadata>=0.20; python_version < \"3.8\" in /usr/local/lib/python3.7/dist-packages (from catalogue<1.1.0,>=0.0.7->spacy) (3.10.1)\n",
            "Requirement already satisfied: zipp>=0.5 in /usr/local/lib/python3.7/dist-packages (from importlib-metadata>=0.20; python_version < \"3.8\"->catalogue<1.1.0,>=0.0.7->spacy) (3.4.1)\n",
            "Requirement already satisfied: typing-extensions>=3.6.4; python_version < \"3.8\" in /usr/local/lib/python3.7/dist-packages (from importlib-metadata>=0.20; python_version < \"3.8\"->catalogue<1.1.0,>=0.0.7->spacy) (3.7.4.3)\n",
            "Collecting langid\n",
            "\u001b[?25l  Downloading https://files.pythonhosted.org/packages/ea/4c/0fb7d900d3b0b9c8703be316fbddffecdab23c64e1b46c7a83561d78bd43/langid-1.1.6.tar.gz (1.9MB)\n",
            "\u001b[K     |████████████████████████████████| 1.9MB 11.7MB/s \n",
            "\u001b[?25hRequirement already satisfied: numpy in /usr/local/lib/python3.7/dist-packages (from langid) (1.19.5)\n",
            "Building wheels for collected packages: langid\n",
            "  Building wheel for langid (setup.py) ... \u001b[?25l\u001b[?25hdone\n",
            "  Created wheel for langid: filename=langid-1.1.6-cp37-none-any.whl size=1941191 sha256=bc176c68173207c92b7b15c7cbc17f6c145f992618b08e96ab3591672726281b\n",
            "  Stored in directory: /root/.cache/pip/wheels/29/bc/61/50a93be85d1afe9436c3dc61f38da8ad7b637a38af4824e86e\n",
            "Successfully built langid\n",
            "Installing collected packages: langid\n",
            "Successfully installed langid-1.1.6\n"
          ],
          "name": "stdout"
        }
      ]
    },
    {
      "cell_type": "markdown",
      "metadata": {
        "id": "hK71EYEOcaS-"
      },
      "source": [
        "## Removing non-english tweets using ASCII filtering"
      ]
    },
    {
      "cell_type": "code",
      "metadata": {
        "id": "ZjUiqNbacZv4"
      },
      "source": [
        "# check for non-ascii (standard English 256 characters) entries \n",
        "# def check_ascii(x):\n",
        "#   if str(x).isascii():\n",
        "#     return x\n",
        "#   else:\n",
        "#     return pd.NA\n",
        "\n",
        "# tweet_headers = ['user_id', 'tweet_id', 'tweet', 'created_at']\n",
        "# # polluter (spam/bot) tweets\n",
        "# polluter_tweet_df = pd.read_csv('/content/drive/Shareddrives/CSCI 5523 Group Project/Data/content_polluters_tweets.txt', delimiter='\\t', names=tweet_headers)\n",
        "# # actual user tweets\n",
        "# legitimate_tweet_df = pd.read_csv('/content/drive/Shareddrives/CSCI 5523 Group Project/Data/legitimate_users_tweets.txt', delimiter='\\t', names=tweet_headers)\n",
        "\n",
        "# # filter out non-ascii (non-English) entries\n",
        "# checked_tweets = polluter_tweet_df['tweet'].apply(check_ascii)\n",
        "# polluter_tweet_df['tweet'] = checked_tweets\n",
        "# polluter_tweet_df_filtered = polluter_tweet_df.dropna(axis = 0)\n",
        "# polluter_tweet_df_filtered['label'] = 1\n",
        "\n",
        "# checked_tweets = legitimate_tweet_df['tweet'].apply(check_ascii)\n",
        "# legitimate_tweet_df['tweet'] = checked_tweets\n",
        "# legitimate_tweet_df_filtered = legitimate_tweet_df.dropna(axis = 0)\n",
        "# legitimate_tweet_df_filtered['label'] = 0"
      ],
      "execution_count": null,
      "outputs": []
    },
    {
      "cell_type": "code",
      "metadata": {
        "id": "AKny_QR_djOu"
      },
      "source": [
        "# print(polluter_tweet_df_filtered.shape)\n",
        "# print(legitimate_tweet_df_filtered.shape)"
      ],
      "execution_count": null,
      "outputs": []
    },
    {
      "cell_type": "code",
      "metadata": {
        "id": "Qsj04rpEdsIg"
      },
      "source": [
        "# polluter_tweet_df_filtered.to_csv(\"/content/drive/Shareddrives/CSCI 5523 Group Project/Data/content_polluters_tweets_filtered.csv\", index = False)\n",
        "# legitimate_tweet_df_filtered.to_csv(\"/content/drive/Shareddrives/CSCI 5523 Group Project/Data/legitimate_users_tweets_filtered.csv\", index = False)"
      ],
      "execution_count": null,
      "outputs": []
    },
    {
      "cell_type": "markdown",
      "metadata": {
        "id": "61g2Frz-iitF"
      },
      "source": [
        "# Load CSVs into DataFrames"
      ]
    },
    {
      "cell_type": "code",
      "metadata": {
        "id": "Ya4D_20naXrr"
      },
      "source": [
        "# polluter_account_headers = ['user_id', 'created_at', 'collected_at', 'following_count', 'follower_count', 'tweet_count', 'screen_name_length', 'user_description_length']\n",
        "# polluter_account_df = pd.read_csv('/content/drive/Shareddrives/CSCI 5523 Group Project/Data/content_polluters.txt', delimiter=\"\\t\", names=polluter_account_headers)\n",
        "# polluter_account_df.head()"
      ],
      "execution_count": null,
      "outputs": []
    },
    {
      "cell_type": "code",
      "metadata": {
        "id": "I4WwPWRhfr2v"
      },
      "source": [
        "# legitimate_account_headers = ['user_id', 'created_at', 'collected_at', 'following_count', 'follower_count', 'tweet_count', 'screen_name_length', 'user_description_length']\n",
        "# legitimate_account_df = pd.read_csv('/content/drive/Shareddrives/CSCI 5523 Group Project/Data/legitimate_users.txt', delimiter=\"\\t\", names=polluter_account_headers)\n",
        "# legitimate_account_df.head()"
      ],
      "execution_count": null,
      "outputs": []
    },
    {
      "cell_type": "code",
      "metadata": {
        "id": "0P1EoF5FfQ1i",
        "colab": {
          "base_uri": "https://localhost:8080/",
          "height": 220
        },
        "outputId": "29e52341-0f95-4742-f12e-b48548c08e64"
      },
      "source": [
        "polluter_tweet_df = pd.read_csv('/content/drive/Shareddrives/CSCI 5523 Group Project/Data/content_polluters_tweets_filtered.csv')\n",
        "print(polluter_tweet_df.shape)\n",
        "polluter_tweet_df.head()"
      ],
      "execution_count": null,
      "outputs": [
        {
          "output_type": "stream",
          "text": [
            "(2149828, 5)\n"
          ],
          "name": "stdout"
        },
        {
          "output_type": "execute_result",
          "data": {
            "text/html": [
              "<div>\n",
              "<style scoped>\n",
              "    .dataframe tbody tr th:only-of-type {\n",
              "        vertical-align: middle;\n",
              "    }\n",
              "\n",
              "    .dataframe tbody tr th {\n",
              "        vertical-align: top;\n",
              "    }\n",
              "\n",
              "    .dataframe thead th {\n",
              "        text-align: right;\n",
              "    }\n",
              "</style>\n",
              "<table border=\"1\" class=\"dataframe\">\n",
              "  <thead>\n",
              "    <tr style=\"text-align: right;\">\n",
              "      <th></th>\n",
              "      <th>user_id</th>\n",
              "      <th>tweet_id</th>\n",
              "      <th>tweet</th>\n",
              "      <th>created_at</th>\n",
              "      <th>label</th>\n",
              "    </tr>\n",
              "  </thead>\n",
              "  <tbody>\n",
              "    <tr>\n",
              "      <th>0</th>\n",
              "      <td>6301</td>\n",
              "      <td>5599519501</td>\n",
              "      <td>MELBOURNE ENQUIRY: Seeking a variety of acts f...</td>\n",
              "      <td>2009-11-10 15:14:31</td>\n",
              "      <td>1</td>\n",
              "    </tr>\n",
              "    <tr>\n",
              "      <th>1</th>\n",
              "      <td>6301</td>\n",
              "      <td>5600313663</td>\n",
              "      <td>THE BURLESQUE BOOTCAMP SYDNEY - Open Date tick...</td>\n",
              "      <td>2009-11-10 15:46:05</td>\n",
              "      <td>1</td>\n",
              "    </tr>\n",
              "    <tr>\n",
              "      <th>2</th>\n",
              "      <td>6301</td>\n",
              "      <td>5600328557</td>\n",
              "      <td>THE BURLESQUE BOOTCAMP SYDNEY - Open Date tick...</td>\n",
              "      <td>2009-11-10 15:46:40</td>\n",
              "      <td>1</td>\n",
              "    </tr>\n",
              "    <tr>\n",
              "      <th>3</th>\n",
              "      <td>6301</td>\n",
              "      <td>5600338093</td>\n",
              "      <td>THE BURLESQUE BOOTCAMP SYDNEY - Open Date tick...</td>\n",
              "      <td>2009-11-10 15:47:03</td>\n",
              "      <td>1</td>\n",
              "    </tr>\n",
              "    <tr>\n",
              "      <th>4</th>\n",
              "      <td>6301</td>\n",
              "      <td>5600564863</td>\n",
              "      <td>Come to \"The Burlesque Bootcamp - Sydney\" Satu...</td>\n",
              "      <td>2009-11-10 15:56:03</td>\n",
              "      <td>1</td>\n",
              "    </tr>\n",
              "  </tbody>\n",
              "</table>\n",
              "</div>"
            ],
            "text/plain": [
              "   user_id    tweet_id                                              tweet  \\\n",
              "0     6301  5599519501  MELBOURNE ENQUIRY: Seeking a variety of acts f...   \n",
              "1     6301  5600313663  THE BURLESQUE BOOTCAMP SYDNEY - Open Date tick...   \n",
              "2     6301  5600328557  THE BURLESQUE BOOTCAMP SYDNEY - Open Date tick...   \n",
              "3     6301  5600338093  THE BURLESQUE BOOTCAMP SYDNEY - Open Date tick...   \n",
              "4     6301  5600564863  Come to \"The Burlesque Bootcamp - Sydney\" Satu...   \n",
              "\n",
              "            created_at  label  \n",
              "0  2009-11-10 15:14:31      1  \n",
              "1  2009-11-10 15:46:05      1  \n",
              "2  2009-11-10 15:46:40      1  \n",
              "3  2009-11-10 15:47:03      1  \n",
              "4  2009-11-10 15:56:03      1  "
            ]
          },
          "metadata": {
            "tags": []
          },
          "execution_count": 5
        }
      ]
    },
    {
      "cell_type": "code",
      "metadata": {
        "id": "X2b2NA1Vfr_-",
        "colab": {
          "base_uri": "https://localhost:8080/",
          "height": 220
        },
        "outputId": "afd5ef91-31f5-4e3e-fd5d-6af626509f3b"
      },
      "source": [
        "legitimate_tweet_df = pd.read_csv('/content/drive/Shareddrives/CSCI 5523 Group Project/Data/legitimate_users_tweets_filtered.csv')\n",
        "print(legitimate_tweet_df.shape)\n",
        "legitimate_tweet_df.head()"
      ],
      "execution_count": null,
      "outputs": [
        {
          "output_type": "stream",
          "text": [
            "(2410899, 5)\n"
          ],
          "name": "stdout"
        },
        {
          "output_type": "execute_result",
          "data": {
            "text/html": [
              "<div>\n",
              "<style scoped>\n",
              "    .dataframe tbody tr th:only-of-type {\n",
              "        vertical-align: middle;\n",
              "    }\n",
              "\n",
              "    .dataframe tbody tr th {\n",
              "        vertical-align: top;\n",
              "    }\n",
              "\n",
              "    .dataframe thead th {\n",
              "        text-align: right;\n",
              "    }\n",
              "</style>\n",
              "<table border=\"1\" class=\"dataframe\">\n",
              "  <thead>\n",
              "    <tr style=\"text-align: right;\">\n",
              "      <th></th>\n",
              "      <th>user_id</th>\n",
              "      <th>tweet_id</th>\n",
              "      <th>tweet</th>\n",
              "      <th>created_at</th>\n",
              "      <th>label</th>\n",
              "    </tr>\n",
              "  </thead>\n",
              "  <tbody>\n",
              "    <tr>\n",
              "      <th>0</th>\n",
              "      <td>614</td>\n",
              "      <td>5873834688</td>\n",
              "      <td>I wish I had more free time. I'd LOVE to see you!</td>\n",
              "      <td>2009-11-19 18:16:40</td>\n",
              "      <td>0</td>\n",
              "    </tr>\n",
              "    <tr>\n",
              "      <th>1</th>\n",
              "      <td>614</td>\n",
              "      <td>5873809295</td>\n",
              "      <td>Tonight, tomorrow. On the plane at 5 pm.</td>\n",
              "      <td>2009-11-19 18:15:42</td>\n",
              "      <td>0</td>\n",
              "    </tr>\n",
              "    <tr>\n",
              "      <th>2</th>\n",
              "      <td>614</td>\n",
              "      <td>5291252160</td>\n",
              "      <td>I'm at Carlucci's in Salt Lake City, UT http:/...</td>\n",
              "      <td>2009-10-30 11:24:52</td>\n",
              "      <td>0</td>\n",
              "    </tr>\n",
              "    <tr>\n",
              "      <th>3</th>\n",
              "      <td>614</td>\n",
              "      <td>5205651441</td>\n",
              "      <td>@spam @JannetteDavid</td>\n",
              "      <td>2009-10-27 12:17:35</td>\n",
              "      <td>0</td>\n",
              "    </tr>\n",
              "    <tr>\n",
              "      <th>4</th>\n",
              "      <td>1038</td>\n",
              "      <td>5762418891</td>\n",
              "      <td>@dialupkid Mijn vriendin en ik hebben een geza...</td>\n",
              "      <td>2009-11-16 05:08:29</td>\n",
              "      <td>0</td>\n",
              "    </tr>\n",
              "  </tbody>\n",
              "</table>\n",
              "</div>"
            ],
            "text/plain": [
              "   user_id    tweet_id                                              tweet  \\\n",
              "0      614  5873834688  I wish I had more free time. I'd LOVE to see you!   \n",
              "1      614  5873809295           Tonight, tomorrow. On the plane at 5 pm.   \n",
              "2      614  5291252160  I'm at Carlucci's in Salt Lake City, UT http:/...   \n",
              "3      614  5205651441                               @spam @JannetteDavid   \n",
              "4     1038  5762418891  @dialupkid Mijn vriendin en ik hebben een geza...   \n",
              "\n",
              "            created_at  label  \n",
              "0  2009-11-19 18:16:40      0  \n",
              "1  2009-11-19 18:15:42      0  \n",
              "2  2009-10-30 11:24:52      0  \n",
              "3  2009-10-27 12:17:35      0  \n",
              "4  2009-11-16 05:08:29      0  "
            ]
          },
          "metadata": {
            "tags": []
          },
          "execution_count": 6
        }
      ]
    },
    {
      "cell_type": "code",
      "metadata": {
        "id": "J4Wq-vmB1ki8",
        "colab": {
          "base_uri": "https://localhost:8080/",
          "height": 204
        },
        "outputId": "061c614c-eaf2-459f-ab6b-6bde5b2ce4a3"
      },
      "source": [
        "legitimate_tweet_sample_df = legitimate_tweet_df[['tweet', 'label']].sample(frac=0.1)\n",
        "polluter_tweet_sample_df = polluter_tweet_df[['tweet', 'label']].sample(frac=0.1)\n",
        "sample_df = legitimate_tweet_sample_df.append(polluter_tweet_sample_df)\n",
        "sample_df.head()\n",
        "\n",
        "# # get the language id for each text\n",
        "# ids_langid = training_df['tweet'].apply(langid.classify)\n",
        "\n",
        "# # get just the language label\n",
        "# langs = ids_langid.apply(lambda tuple: tuple[0])\n",
        "\n",
        "# # how many unique language labels were applied?\n",
        "# print(\"Number of tagged languages (estimated):\")\n",
        "# print(len(langs.unique()))\n",
        "\n",
        "# # percent of the total dataset in English\n",
        "# print(\"Percent of data in English (estimated):\")\n",
        "# print((sum(langs==\"en\")/len(langs))*100)"
      ],
      "execution_count": null,
      "outputs": [
        {
          "output_type": "execute_result",
          "data": {
            "text/html": [
              "<div>\n",
              "<style scoped>\n",
              "    .dataframe tbody tr th:only-of-type {\n",
              "        vertical-align: middle;\n",
              "    }\n",
              "\n",
              "    .dataframe tbody tr th {\n",
              "        vertical-align: top;\n",
              "    }\n",
              "\n",
              "    .dataframe thead th {\n",
              "        text-align: right;\n",
              "    }\n",
              "</style>\n",
              "<table border=\"1\" class=\"dataframe\">\n",
              "  <thead>\n",
              "    <tr style=\"text-align: right;\">\n",
              "      <th></th>\n",
              "      <th>tweet</th>\n",
              "      <th>label</th>\n",
              "    </tr>\n",
              "  </thead>\n",
              "  <tbody>\n",
              "    <tr>\n",
              "      <th>279786</th>\n",
              "      <td>Headig to Tang Soo Do then it's time to relax ...</td>\n",
              "      <td>0</td>\n",
              "    </tr>\n",
              "    <tr>\n",
              "      <th>668128</th>\n",
              "      <td>I don't think there was enough to over turn th...</td>\n",
              "      <td>0</td>\n",
              "    </tr>\n",
              "    <tr>\n",
              "      <th>101210</th>\n",
              "      <td>@sacca Congrats! How often did you think about...</td>\n",
              "      <td>0</td>\n",
              "    </tr>\n",
              "    <tr>\n",
              "      <th>945188</th>\n",
              "      <td>A UTOPIA DA MELHOR IDADE (CPFL CUltura)http://...</td>\n",
              "      <td>0</td>\n",
              "    </tr>\n",
              "    <tr>\n",
              "      <th>1436452</th>\n",
              "      <td>:: Blank stare at Diddy's video:: sooo he's tr...</td>\n",
              "      <td>0</td>\n",
              "    </tr>\n",
              "  </tbody>\n",
              "</table>\n",
              "</div>"
            ],
            "text/plain": [
              "                                                     tweet  label\n",
              "279786   Headig to Tang Soo Do then it's time to relax ...      0\n",
              "668128   I don't think there was enough to over turn th...      0\n",
              "101210   @sacca Congrats! How often did you think about...      0\n",
              "945188   A UTOPIA DA MELHOR IDADE (CPFL CUltura)http://...      0\n",
              "1436452  :: Blank stare at Diddy's video:: sooo he's tr...      0"
            ]
          },
          "metadata": {
            "tags": []
          },
          "execution_count": 66
        }
      ]
    },
    {
      "cell_type": "markdown",
      "metadata": {
        "id": "W52hPBWc9spc"
      },
      "source": [
        "# Preprocessing Steps"
      ]
    },
    {
      "cell_type": "markdown",
      "metadata": {
        "id": "011AQfzs-Um6"
      },
      "source": [
        "Remove empty/blank entries"
      ]
    },
    {
      "cell_type": "code",
      "metadata": {
        "id": "lzc9cW1X-Rf7",
        "colab": {
          "base_uri": "https://localhost:8080/",
          "height": 297
        },
        "outputId": "c8ac3c6b-01a6-4e80-e29d-66a2b465b280"
      },
      "source": [
        "sample_df.dropna(inplace=True)\n",
        "sample_df = sample_df[sample_df.tweet != '']\n",
        "sample_df.describe()"
      ],
      "execution_count": null,
      "outputs": [
        {
          "output_type": "execute_result",
          "data": {
            "text/html": [
              "<div>\n",
              "<style scoped>\n",
              "    .dataframe tbody tr th:only-of-type {\n",
              "        vertical-align: middle;\n",
              "    }\n",
              "\n",
              "    .dataframe tbody tr th {\n",
              "        vertical-align: top;\n",
              "    }\n",
              "\n",
              "    .dataframe thead th {\n",
              "        text-align: right;\n",
              "    }\n",
              "</style>\n",
              "<table border=\"1\" class=\"dataframe\">\n",
              "  <thead>\n",
              "    <tr style=\"text-align: right;\">\n",
              "      <th></th>\n",
              "      <th>label</th>\n",
              "    </tr>\n",
              "  </thead>\n",
              "  <tbody>\n",
              "    <tr>\n",
              "      <th>count</th>\n",
              "      <td>456073.00</td>\n",
              "    </tr>\n",
              "    <tr>\n",
              "      <th>mean</th>\n",
              "      <td>0.47</td>\n",
              "    </tr>\n",
              "    <tr>\n",
              "      <th>std</th>\n",
              "      <td>0.50</td>\n",
              "    </tr>\n",
              "    <tr>\n",
              "      <th>min</th>\n",
              "      <td>0.00</td>\n",
              "    </tr>\n",
              "    <tr>\n",
              "      <th>25%</th>\n",
              "      <td>0.00</td>\n",
              "    </tr>\n",
              "    <tr>\n",
              "      <th>50%</th>\n",
              "      <td>0.00</td>\n",
              "    </tr>\n",
              "    <tr>\n",
              "      <th>75%</th>\n",
              "      <td>1.00</td>\n",
              "    </tr>\n",
              "    <tr>\n",
              "      <th>max</th>\n",
              "      <td>1.00</td>\n",
              "    </tr>\n",
              "  </tbody>\n",
              "</table>\n",
              "</div>"
            ],
            "text/plain": [
              "           label\n",
              "count  456073.00\n",
              "mean        0.47\n",
              "std         0.50\n",
              "min         0.00\n",
              "25%         0.00\n",
              "50%         0.00\n",
              "75%         1.00\n",
              "max         1.00"
            ]
          },
          "metadata": {
            "tags": []
          },
          "execution_count": 67
        }
      ]
    },
    {
      "cell_type": "markdown",
      "metadata": {
        "id": "h7poy4gYAxi3"
      },
      "source": [
        "Drop null values, only consider 20,000 random tweets as a precaution for performance. Hughdan will adjust this later."
      ]
    },
    {
      "cell_type": "code",
      "metadata": {
        "id": "cEV6KtV9Az9k",
        "colab": {
          "base_uri": "https://localhost:8080/",
          "height": 204
        },
        "outputId": "2780e788-449c-4e17-c75a-5616b8466fb2"
      },
      "source": [
        "sample_df = sample_df.sample(frac=1).head(20000)\n",
        "sample_df.head()"
      ],
      "execution_count": null,
      "outputs": [
        {
          "output_type": "execute_result",
          "data": {
            "text/html": [
              "<div>\n",
              "<style scoped>\n",
              "    .dataframe tbody tr th:only-of-type {\n",
              "        vertical-align: middle;\n",
              "    }\n",
              "\n",
              "    .dataframe tbody tr th {\n",
              "        vertical-align: top;\n",
              "    }\n",
              "\n",
              "    .dataframe thead th {\n",
              "        text-align: right;\n",
              "    }\n",
              "</style>\n",
              "<table border=\"1\" class=\"dataframe\">\n",
              "  <thead>\n",
              "    <tr style=\"text-align: right;\">\n",
              "      <th></th>\n",
              "      <th>tweet</th>\n",
              "      <th>label</th>\n",
              "    </tr>\n",
              "  </thead>\n",
              "  <tbody>\n",
              "    <tr>\n",
              "      <th>231489</th>\n",
              "      <td>Engadget for iPhone/ iPod Touch http://bit.ly/...</td>\n",
              "      <td>1</td>\n",
              "    </tr>\n",
              "    <tr>\n",
              "      <th>905683</th>\n",
              "      <td>Oh bless me lord for I have sinned. It's been ...</td>\n",
              "      <td>0</td>\n",
              "    </tr>\n",
              "    <tr>\n",
              "      <th>1678297</th>\n",
              "      <td>This is coming from thetweettank.com</td>\n",
              "      <td>1</td>\n",
              "    </tr>\n",
              "    <tr>\n",
              "      <th>862885</th>\n",
              "      <td>cum on guys from america i need to talk to som...</td>\n",
              "      <td>1</td>\n",
              "    </tr>\n",
              "    <tr>\n",
              "      <th>56854</th>\n",
              "      <td>RT @Eb_the_Celeb: Wait??? Who sags anymore 4 M...</td>\n",
              "      <td>0</td>\n",
              "    </tr>\n",
              "  </tbody>\n",
              "</table>\n",
              "</div>"
            ],
            "text/plain": [
              "                                                     tweet  label\n",
              "231489   Engadget for iPhone/ iPod Touch http://bit.ly/...      1\n",
              "905683   Oh bless me lord for I have sinned. It's been ...      0\n",
              "1678297               This is coming from thetweettank.com      1\n",
              "862885   cum on guys from america i need to talk to som...      1\n",
              "56854    RT @Eb_the_Celeb: Wait??? Who sags anymore 4 M...      0"
            ]
          },
          "metadata": {
            "tags": []
          },
          "execution_count": 68
        }
      ]
    },
    {
      "cell_type": "markdown",
      "metadata": {
        "id": "wFMoyenzBbyT"
      },
      "source": [
        "Remove Punctuation"
      ]
    },
    {
      "cell_type": "code",
      "metadata": {
        "id": "nhmB5axFBdg4",
        "colab": {
          "base_uri": "https://localhost:8080/",
          "height": 297
        },
        "outputId": "e1271fac-87e9-4fe7-e315-82b0d51a7419"
      },
      "source": [
        "import re\n",
        "\n",
        "sample_df['tweet'] = sample_df['tweet'].apply(lambda x: re.sub('[^a-zA-z0-9\\s]','',x))\n",
        "sample_df.dropna(inplace=True)\n",
        "sample_df = sample_df[sample_df.tweet != '']\n",
        "sample_df.describe()"
      ],
      "execution_count": null,
      "outputs": [
        {
          "output_type": "execute_result",
          "data": {
            "text/html": [
              "<div>\n",
              "<style scoped>\n",
              "    .dataframe tbody tr th:only-of-type {\n",
              "        vertical-align: middle;\n",
              "    }\n",
              "\n",
              "    .dataframe tbody tr th {\n",
              "        vertical-align: top;\n",
              "    }\n",
              "\n",
              "    .dataframe thead th {\n",
              "        text-align: right;\n",
              "    }\n",
              "</style>\n",
              "<table border=\"1\" class=\"dataframe\">\n",
              "  <thead>\n",
              "    <tr style=\"text-align: right;\">\n",
              "      <th></th>\n",
              "      <th>label</th>\n",
              "    </tr>\n",
              "  </thead>\n",
              "  <tbody>\n",
              "    <tr>\n",
              "      <th>count</th>\n",
              "      <td>19997.00</td>\n",
              "    </tr>\n",
              "    <tr>\n",
              "      <th>mean</th>\n",
              "      <td>0.47</td>\n",
              "    </tr>\n",
              "    <tr>\n",
              "      <th>std</th>\n",
              "      <td>0.50</td>\n",
              "    </tr>\n",
              "    <tr>\n",
              "      <th>min</th>\n",
              "      <td>0.00</td>\n",
              "    </tr>\n",
              "    <tr>\n",
              "      <th>25%</th>\n",
              "      <td>0.00</td>\n",
              "    </tr>\n",
              "    <tr>\n",
              "      <th>50%</th>\n",
              "      <td>0.00</td>\n",
              "    </tr>\n",
              "    <tr>\n",
              "      <th>75%</th>\n",
              "      <td>1.00</td>\n",
              "    </tr>\n",
              "    <tr>\n",
              "      <th>max</th>\n",
              "      <td>1.00</td>\n",
              "    </tr>\n",
              "  </tbody>\n",
              "</table>\n",
              "</div>"
            ],
            "text/plain": [
              "          label\n",
              "count  19997.00\n",
              "mean       0.47\n",
              "std        0.50\n",
              "min        0.00\n",
              "25%        0.00\n",
              "50%        0.00\n",
              "75%        1.00\n",
              "max        1.00"
            ]
          },
          "metadata": {
            "tags": []
          },
          "execution_count": 69
        }
      ]
    },
    {
      "cell_type": "markdown",
      "metadata": {
        "id": "AT4ext2OC002"
      },
      "source": [
        "Convert to lowercase"
      ]
    },
    {
      "cell_type": "code",
      "metadata": {
        "id": "WNQtdaCeC3Xq"
      },
      "source": [
        "sample_df['tweet'] = sample_df['tweet'].apply(lambda x: x.lower())"
      ],
      "execution_count": null,
      "outputs": []
    },
    {
      "cell_type": "markdown",
      "metadata": {
        "id": "V6KPrNm7E-hv"
      },
      "source": [
        "# Create 2-grams"
      ]
    },
    {
      "cell_type": "code",
      "metadata": {
        "id": "a9WOPEHB7Kkk",
        "colab": {
          "base_uri": "https://localhost:8080/"
        },
        "outputId": "a57ecd88-82bf-4a2d-abb9-3a588d842e60"
      },
      "source": [
        "words = []\n",
        "for ii in range(0,len(sample_df)):\n",
        "    words.append(str(sample_df.iloc[ii]['tweet']).split(\" \"))\n",
        "\n",
        "n_gram_all = []\n",
        "\n",
        "for word in words:\n",
        "    # get n-grams for the instance\n",
        "    n_gram = []\n",
        "    for i in range(len(word)-2+1):\n",
        "        n_gram.append(\"\".join(word[i:i+2]))\n",
        "    n_gram_all.append(n_gram)\n",
        "    \n",
        "n_gram_all[0][:10]\n"
      ],
      "execution_count": null,
      "outputs": [
        {
          "output_type": "execute_result",
          "data": {
            "text/plain": [
              "['engadgetfor',\n",
              " 'foriphone',\n",
              " 'iphoneipod',\n",
              " 'ipodtouch',\n",
              " 'touchhttpbitly5wje1i',\n",
              " 'httpbitly5wje1i^ns']"
            ]
          },
          "metadata": {
            "tags": []
          },
          "execution_count": 71
        }
      ]
    },
    {
      "cell_type": "markdown",
      "metadata": {
        "id": "dloLhiHNGGjB"
      },
      "source": [
        "# Vectorizing with Hashing Vectorizer"
      ]
    },
    {
      "cell_type": "code",
      "metadata": {
        "id": "DnwOLDkqGK6b",
        "colab": {
          "base_uri": "https://localhost:8080/"
        },
        "outputId": "8917c9d9-fe1d-406d-c5c9-5f28372e8aaf"
      },
      "source": [
        "from sklearn.feature_extraction.text import HashingVectorizer\n",
        "\n",
        "# hash vectorizer instance\n",
        "hvec = HashingVectorizer(lowercase=False, analyzer=lambda l:l, n_features=2**12)\n",
        "\n",
        "# features matrix X\n",
        "X = hvec.fit_transform(n_gram_all)\n",
        "print(X)"
      ],
      "execution_count": null,
      "outputs": [
        {
          "output_type": "stream",
          "text": [
            "  (0, 218)\t0.4082482904638631\n",
            "  (0, 569)\t0.4082482904638631\n",
            "  (0, 1210)\t-0.4082482904638631\n",
            "  (0, 1704)\t-0.4082482904638631\n",
            "  (0, 1890)\t0.4082482904638631\n",
            "  (0, 2031)\t-0.4082482904638631\n",
            "  (1, 276)\t0.2581988897471611\n",
            "  (1, 1023)\t0.2581988897471611\n",
            "  (1, 1839)\t-0.2581988897471611\n",
            "  (1, 2099)\t0.2581988897471611\n",
            "  (1, 2128)\t-0.2581988897471611\n",
            "  (1, 2217)\t0.2581988897471611\n",
            "  (1, 2358)\t0.2581988897471611\n",
            "  (1, 2568)\t0.2581988897471611\n",
            "  (1, 2970)\t0.2581988897471611\n",
            "  (1, 3341)\t0.2581988897471611\n",
            "  (1, 3439)\t-0.2581988897471611\n",
            "  (1, 3466)\t0.2581988897471611\n",
            "  (1, 3620)\t-0.2581988897471611\n",
            "  (1, 3626)\t0.2581988897471611\n",
            "  (1, 4090)\t0.2581988897471611\n",
            "  (2, 497)\t-0.5\n",
            "  (2, 1072)\t0.5\n",
            "  (2, 3067)\t0.5\n",
            "  (2, 3913)\t-0.5\n",
            "  :\t:\n",
            "  (19994, 16)\t-0.2773500981126146\n",
            "  (19994, 657)\t-0.2773500981126146\n",
            "  (19994, 778)\t0.2773500981126146\n",
            "  (19994, 1394)\t0.2773500981126146\n",
            "  (19994, 1766)\t0.2773500981126146\n",
            "  (19994, 2062)\t0.2773500981126146\n",
            "  (19994, 2705)\t-0.2773500981126146\n",
            "  (19994, 3085)\t0.2773500981126146\n",
            "  (19994, 3525)\t0.2773500981126146\n",
            "  (19994, 3751)\t-0.2773500981126146\n",
            "  (19994, 3905)\t-0.2773500981126146\n",
            "  (19994, 4028)\t-0.2773500981126146\n",
            "  (19994, 4034)\t-0.2773500981126146\n",
            "  (19995, 231)\t0.4082482904638631\n",
            "  (19995, 891)\t-0.4082482904638631\n",
            "  (19995, 923)\t0.4082482904638631\n",
            "  (19995, 2242)\t-0.4082482904638631\n",
            "  (19995, 3196)\t-0.4082482904638631\n",
            "  (19995, 3316)\t-0.4082482904638631\n",
            "  (19996, 785)\t-0.4082482904638631\n",
            "  (19996, 1670)\t-0.4082482904638631\n",
            "  (19996, 1779)\t-0.4082482904638631\n",
            "  (19996, 2406)\t-0.4082482904638631\n",
            "  (19996, 2873)\t0.4082482904638631\n",
            "  (19996, 3951)\t-0.4082482904638631\n"
          ],
          "name": "stdout"
        }
      ]
    },
    {
      "cell_type": "markdown",
      "metadata": {
        "id": "x5hBk-KCGBKS"
      },
      "source": [
        "## Build Training and Testing Datasets"
      ]
    },
    {
      "cell_type": "code",
      "metadata": {
        "id": "d4_mnPO4HZ28",
        "colab": {
          "base_uri": "https://localhost:8080/"
        },
        "outputId": "3bf582b7-e0e5-4c34-c332-0097f565f135"
      },
      "source": [
        "from sklearn.model_selection import train_test_split\n",
        "\n",
        "# test set size of 20% of the data and the random seed 1\n",
        "X_train, X_test, y_train, y_test = train_test_split(X.toarray(), sample['label'], test_size=0.2, random_state=1)"
      ],
      "execution_count": null,
      "outputs": [
        {
          "output_type": "stream",
          "text": [
            "[[0. 0. 0. ... 0. 0. 0.]\n",
            " [0. 0. 0. ... 0. 0. 0.]\n",
            " [0. 0. 0. ... 0. 0. 0.]\n",
            " ...\n",
            " [0. 0. 0. ... 0. 0. 0.]\n",
            " [0. 0. 0. ... 0. 0. 0.]\n",
            " [0. 0. 0. ... 0. 0. 0.]]\n"
          ],
          "name": "stdout"
        }
      ]
    },
    {
      "cell_type": "code",
      "metadata": {
        "id": "XQTf8OilHZHv"
      },
      "source": [
        "# for large datasets use a train-test split index array\n",
        "split_idx = np.arange(dataset_sample.shape[0])\n",
        "np.random.seed(0)\n",
        "np.random.shuffle(split_idx)\n",
        "split = 8*dataset_sample.shape[0]//10 # 20% train-test split\n",
        "train_idx = split_idx[:split]\n",
        "test_idx = split_idx[split:]\n",
        "\n",
        "X_train = X[train_idx]\n",
        "X_test = X[test_idx]\n",
        "y_train = dataset_sample['label'].iloc[train_idx]\n",
        "y_test = dataset_sample['label'].iloc[test_idx]"
      ],
      "execution_count": null,
      "outputs": []
    }
  ]
}