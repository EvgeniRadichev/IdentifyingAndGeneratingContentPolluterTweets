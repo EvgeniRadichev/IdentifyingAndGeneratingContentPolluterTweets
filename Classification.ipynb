{
  "nbformat": 4,
  "nbformat_minor": 0,
  "metadata": {
    "colab": {
      "name": "Classification - Extra.ipynb",
      "provenance": [],
      "collapsed_sections": [],
      "machine_shape": "hm"
    },
    "kernelspec": {
      "name": "python3",
      "display_name": "Python 3"
    },
    "language_info": {
      "name": "python"
    }
  },
  "cells": [
    {
      "cell_type": "code",
      "metadata": {
        "id": "sB4q9PmBpGvX"
      },
      "source": [
        "import numpy as np\n",
        "import pandas as pd"
      ],
      "execution_count": null,
      "outputs": []
    },
    {
      "cell_type": "markdown",
      "metadata": {
        "id": "5bwACEPO_MF2"
      },
      "source": [
        "## Load Data"
      ]
    },
    {
      "cell_type": "code",
      "metadata": {
        "id": "_bSrGha8_LfH"
      },
      "source": [
        "pollutor_tweets_df = pd.read_csv(\"/content/drive/Shareddrives/CSCI 5523 Group Project/Data/content_polluters_tweets_filtered.csv\", header = 0)\n",
        "legitimate_users_df = pd.read_csv(\"/content/drive/Shareddrives/CSCI 5523 Group Project/Data/legitimate_users_tweets_filtered.csv\", header = 0)\n",
        "dataset = legitimate_users_df.append(pollutor_tweets_df)"
      ],
      "execution_count": null,
      "outputs": []
    },
    {
      "cell_type": "code",
      "metadata": {
        "colab": {
          "base_uri": "https://localhost:8080/",
          "height": 204
        },
        "id": "KBRPE-4Bpdla",
        "outputId": "d63ee13d-6c7c-4231-d177-81c37c28bc12"
      },
      "source": [
        "dataset.head()"
      ],
      "execution_count": null,
      "outputs": [
        {
          "output_type": "execute_result",
          "data": {
            "text/html": [
              "<div>\n",
              "<style scoped>\n",
              "    .dataframe tbody tr th:only-of-type {\n",
              "        vertical-align: middle;\n",
              "    }\n",
              "\n",
              "    .dataframe tbody tr th {\n",
              "        vertical-align: top;\n",
              "    }\n",
              "\n",
              "    .dataframe thead th {\n",
              "        text-align: right;\n",
              "    }\n",
              "</style>\n",
              "<table border=\"1\" class=\"dataframe\">\n",
              "  <thead>\n",
              "    <tr style=\"text-align: right;\">\n",
              "      <th></th>\n",
              "      <th>user_id</th>\n",
              "      <th>tweet_id</th>\n",
              "      <th>tweet</th>\n",
              "      <th>created_at</th>\n",
              "      <th>label</th>\n",
              "    </tr>\n",
              "  </thead>\n",
              "  <tbody>\n",
              "    <tr>\n",
              "      <th>0</th>\n",
              "      <td>614</td>\n",
              "      <td>5873834688</td>\n",
              "      <td>I wish I had more free time. I'd LOVE to see you!</td>\n",
              "      <td>2009-11-19 18:16:40</td>\n",
              "      <td>0</td>\n",
              "    </tr>\n",
              "    <tr>\n",
              "      <th>1</th>\n",
              "      <td>614</td>\n",
              "      <td>5873809295</td>\n",
              "      <td>Tonight, tomorrow. On the plane at 5 pm.</td>\n",
              "      <td>2009-11-19 18:15:42</td>\n",
              "      <td>0</td>\n",
              "    </tr>\n",
              "    <tr>\n",
              "      <th>2</th>\n",
              "      <td>614</td>\n",
              "      <td>5291252160</td>\n",
              "      <td>I'm at Carlucci's in Salt Lake City, UT http:/...</td>\n",
              "      <td>2009-10-30 11:24:52</td>\n",
              "      <td>0</td>\n",
              "    </tr>\n",
              "    <tr>\n",
              "      <th>3</th>\n",
              "      <td>614</td>\n",
              "      <td>5205651441</td>\n",
              "      <td>@spam @JannetteDavid</td>\n",
              "      <td>2009-10-27 12:17:35</td>\n",
              "      <td>0</td>\n",
              "    </tr>\n",
              "    <tr>\n",
              "      <th>4</th>\n",
              "      <td>1038</td>\n",
              "      <td>5762418891</td>\n",
              "      <td>@dialupkid Mijn vriendin en ik hebben een geza...</td>\n",
              "      <td>2009-11-16 05:08:29</td>\n",
              "      <td>0</td>\n",
              "    </tr>\n",
              "  </tbody>\n",
              "</table>\n",
              "</div>"
            ],
            "text/plain": [
              "   user_id    tweet_id  ...           created_at label\n",
              "0      614  5873834688  ...  2009-11-19 18:16:40     0\n",
              "1      614  5873809295  ...  2009-11-19 18:15:42     0\n",
              "2      614  5291252160  ...  2009-10-30 11:24:52     0\n",
              "3      614  5205651441  ...  2009-10-27 12:17:35     0\n",
              "4     1038  5762418891  ...  2009-11-16 05:08:29     0\n",
              "\n",
              "[5 rows x 5 columns]"
            ]
          },
          "metadata": {
            "tags": []
          },
          "execution_count": 4
        }
      ]
    },
    {
      "cell_type": "markdown",
      "metadata": {
        "id": "AHrPRFKN_VNg"
      },
      "source": [
        "## Data Preprocessing"
      ]
    },
    {
      "cell_type": "markdown",
      "metadata": {
        "id": "011AQfzs-Um6"
      },
      "source": [
        "Remove duplicates"
      ]
    },
    {
      "cell_type": "code",
      "metadata": {
        "id": "lzc9cW1X-Rf7",
        "colab": {
          "base_uri": "https://localhost:8080/",
          "height": 297
        },
        "outputId": "ba2bf86d-9f2b-49c8-d4a5-9dd915d39c50"
      },
      "source": [
        "dataset.dropna(inplace=True)\n",
        "dataset = dataset[dataset.tweet != '']\n",
        "dataset.describe()"
      ],
      "execution_count": null,
      "outputs": [
        {
          "output_type": "execute_result",
          "data": {
            "text/html": [
              "<div>\n",
              "<style scoped>\n",
              "    .dataframe tbody tr th:only-of-type {\n",
              "        vertical-align: middle;\n",
              "    }\n",
              "\n",
              "    .dataframe tbody tr th {\n",
              "        vertical-align: top;\n",
              "    }\n",
              "\n",
              "    .dataframe thead th {\n",
              "        text-align: right;\n",
              "    }\n",
              "</style>\n",
              "<table border=\"1\" class=\"dataframe\">\n",
              "  <thead>\n",
              "    <tr style=\"text-align: right;\">\n",
              "      <th></th>\n",
              "      <th>user_id</th>\n",
              "      <th>tweet_id</th>\n",
              "      <th>label</th>\n",
              "    </tr>\n",
              "  </thead>\n",
              "  <tbody>\n",
              "    <tr>\n",
              "      <th>count</th>\n",
              "      <td>4.560727e+06</td>\n",
              "      <td>4.560727e+06</td>\n",
              "      <td>4.560727e+06</td>\n",
              "    </tr>\n",
              "    <tr>\n",
              "      <th>mean</th>\n",
              "      <td>5.821501e+07</td>\n",
              "      <td>7.809418e+09</td>\n",
              "      <td>4.713784e-01</td>\n",
              "    </tr>\n",
              "    <tr>\n",
              "      <th>std</th>\n",
              "      <td>3.829453e+07</td>\n",
              "      <td>3.871802e+09</td>\n",
              "      <td>4.991802e-01</td>\n",
              "    </tr>\n",
              "    <tr>\n",
              "      <th>min</th>\n",
              "      <td>6.140000e+02</td>\n",
              "      <td>5.218033e+06</td>\n",
              "      <td>0.000000e+00</td>\n",
              "    </tr>\n",
              "    <tr>\n",
              "      <th>25%</th>\n",
              "      <td>2.474534e+07</td>\n",
              "      <td>5.585464e+09</td>\n",
              "      <td>0.000000e+00</td>\n",
              "    </tr>\n",
              "    <tr>\n",
              "      <th>50%</th>\n",
              "      <td>4.941459e+07</td>\n",
              "      <td>5.936497e+09</td>\n",
              "      <td>0.000000e+00</td>\n",
              "    </tr>\n",
              "    <tr>\n",
              "      <th>75%</th>\n",
              "      <td>8.434406e+07</td>\n",
              "      <td>9.117617e+09</td>\n",
              "      <td>1.000000e+00</td>\n",
              "    </tr>\n",
              "    <tr>\n",
              "      <th>max</th>\n",
              "      <td>1.737670e+08</td>\n",
              "      <td>2.014599e+10</td>\n",
              "      <td>1.000000e+00</td>\n",
              "    </tr>\n",
              "  </tbody>\n",
              "</table>\n",
              "</div>"
            ],
            "text/plain": [
              "            user_id      tweet_id         label\n",
              "count  4.560727e+06  4.560727e+06  4.560727e+06\n",
              "mean   5.821501e+07  7.809418e+09  4.713784e-01\n",
              "std    3.829453e+07  3.871802e+09  4.991802e-01\n",
              "min    6.140000e+02  5.218033e+06  0.000000e+00\n",
              "25%    2.474534e+07  5.585464e+09  0.000000e+00\n",
              "50%    4.941459e+07  5.936497e+09  0.000000e+00\n",
              "75%    8.434406e+07  9.117617e+09  1.000000e+00\n",
              "max    1.737670e+08  2.014599e+10  1.000000e+00"
            ]
          },
          "metadata": {
            "tags": []
          },
          "execution_count": 5
        }
      ]
    },
    {
      "cell_type": "markdown",
      "metadata": {
        "id": "h7poy4gYAxi3"
      },
      "source": [
        "Drop null values, only consider 20,000 random tweets as a precaution for performance. Hughdan will adjust this later."
      ]
    },
    {
      "cell_type": "code",
      "metadata": {
        "id": "cEV6KtV9Az9k",
        "colab": {
          "base_uri": "https://localhost:8080/",
          "height": 204
        },
        "outputId": "aa760ba9-25a6-4193-fedc-49a555b5c09c"
      },
      "source": [
        "#dataset_sample = dataset.sample(frac=1, random_state=1).head(20000)\n",
        "dataset_sample = dataset\n",
        "dataset_sample.head()"
      ],
      "execution_count": null,
      "outputs": [
        {
          "output_type": "execute_result",
          "data": {
            "text/html": [
              "<div>\n",
              "<style scoped>\n",
              "    .dataframe tbody tr th:only-of-type {\n",
              "        vertical-align: middle;\n",
              "    }\n",
              "\n",
              "    .dataframe tbody tr th {\n",
              "        vertical-align: top;\n",
              "    }\n",
              "\n",
              "    .dataframe thead th {\n",
              "        text-align: right;\n",
              "    }\n",
              "</style>\n",
              "<table border=\"1\" class=\"dataframe\">\n",
              "  <thead>\n",
              "    <tr style=\"text-align: right;\">\n",
              "      <th></th>\n",
              "      <th>user_id</th>\n",
              "      <th>tweet_id</th>\n",
              "      <th>tweet</th>\n",
              "      <th>created_at</th>\n",
              "      <th>label</th>\n",
              "    </tr>\n",
              "  </thead>\n",
              "  <tbody>\n",
              "    <tr>\n",
              "      <th>0</th>\n",
              "      <td>614</td>\n",
              "      <td>5873834688</td>\n",
              "      <td>I wish I had more free time Id LOVE to see you</td>\n",
              "      <td>2009-11-19 18:16:40</td>\n",
              "      <td>0</td>\n",
              "    </tr>\n",
              "    <tr>\n",
              "      <th>1</th>\n",
              "      <td>614</td>\n",
              "      <td>5873809295</td>\n",
              "      <td>Tonight tomorrow On the plane at 5 pm</td>\n",
              "      <td>2009-11-19 18:15:42</td>\n",
              "      <td>0</td>\n",
              "    </tr>\n",
              "    <tr>\n",
              "      <th>2</th>\n",
              "      <td>614</td>\n",
              "      <td>5291252160</td>\n",
              "      <td>Im at Carluccis in Salt Lake City UT httpgowal...</td>\n",
              "      <td>2009-10-30 11:24:52</td>\n",
              "      <td>0</td>\n",
              "    </tr>\n",
              "    <tr>\n",
              "      <th>3</th>\n",
              "      <td>614</td>\n",
              "      <td>5205651441</td>\n",
              "      <td>spam JannetteDavid</td>\n",
              "      <td>2009-10-27 12:17:35</td>\n",
              "      <td>0</td>\n",
              "    </tr>\n",
              "    <tr>\n",
              "      <th>4</th>\n",
              "      <td>1038</td>\n",
              "      <td>5762418891</td>\n",
              "      <td>dialupkid Mijn vriendin en ik hebben een gezam...</td>\n",
              "      <td>2009-11-16 05:08:29</td>\n",
              "      <td>0</td>\n",
              "    </tr>\n",
              "  </tbody>\n",
              "</table>\n",
              "</div>"
            ],
            "text/plain": [
              "   user_id    tweet_id  ...           created_at label\n",
              "0      614  5873834688  ...  2009-11-19 18:16:40     0\n",
              "1      614  5873809295  ...  2009-11-19 18:15:42     0\n",
              "2      614  5291252160  ...  2009-10-30 11:24:52     0\n",
              "3      614  5205651441  ...  2009-10-27 12:17:35     0\n",
              "4     1038  5762418891  ...  2009-11-16 05:08:29     0\n",
              "\n",
              "[5 rows x 5 columns]"
            ]
          },
          "metadata": {
            "tags": []
          },
          "execution_count": 86
        }
      ]
    },
    {
      "cell_type": "markdown",
      "metadata": {
        "id": "wFMoyenzBbyT"
      },
      "source": [
        "Remove Punctuation"
      ]
    },
    {
      "cell_type": "code",
      "metadata": {
        "id": "nhmB5axFBdg4",
        "colab": {
          "base_uri": "https://localhost:8080/",
          "height": 297
        },
        "outputId": "19bb811b-0802-401c-fb81-b9fb2b6b80a2"
      },
      "source": [
        "import re\n",
        "\n",
        "dataset_sample['tweet'] = dataset_sample['tweet'].apply(lambda x: re.sub('[^a-zA-z0-9\\s]','',x))\n",
        "dataset_sample.dropna(inplace=True)\n",
        "dataset_sample = dataset_sample[dataset_sample.tweet != '']\n",
        "dataset_sample.describe()"
      ],
      "execution_count": null,
      "outputs": [
        {
          "output_type": "execute_result",
          "data": {
            "text/html": [
              "<div>\n",
              "<style scoped>\n",
              "    .dataframe tbody tr th:only-of-type {\n",
              "        vertical-align: middle;\n",
              "    }\n",
              "\n",
              "    .dataframe tbody tr th {\n",
              "        vertical-align: top;\n",
              "    }\n",
              "\n",
              "    .dataframe thead th {\n",
              "        text-align: right;\n",
              "    }\n",
              "</style>\n",
              "<table border=\"1\" class=\"dataframe\">\n",
              "  <thead>\n",
              "    <tr style=\"text-align: right;\">\n",
              "      <th></th>\n",
              "      <th>user_id</th>\n",
              "      <th>tweet_id</th>\n",
              "      <th>label</th>\n",
              "    </tr>\n",
              "  </thead>\n",
              "  <tbody>\n",
              "    <tr>\n",
              "      <th>count</th>\n",
              "      <td>4.559301e+06</td>\n",
              "      <td>4.559301e+06</td>\n",
              "      <td>4.559301e+06</td>\n",
              "    </tr>\n",
              "    <tr>\n",
              "      <th>mean</th>\n",
              "      <td>5.821544e+07</td>\n",
              "      <td>7.809652e+09</td>\n",
              "      <td>4.714523e-01</td>\n",
              "    </tr>\n",
              "    <tr>\n",
              "      <th>std</th>\n",
              "      <td>3.829647e+07</td>\n",
              "      <td>3.871788e+09</td>\n",
              "      <td>4.991844e-01</td>\n",
              "    </tr>\n",
              "    <tr>\n",
              "      <th>min</th>\n",
              "      <td>6.140000e+02</td>\n",
              "      <td>5.218033e+06</td>\n",
              "      <td>0.000000e+00</td>\n",
              "    </tr>\n",
              "    <tr>\n",
              "      <th>25%</th>\n",
              "      <td>2.474197e+07</td>\n",
              "      <td>5.585527e+09</td>\n",
              "      <td>0.000000e+00</td>\n",
              "    </tr>\n",
              "    <tr>\n",
              "      <th>50%</th>\n",
              "      <td>4.941459e+07</td>\n",
              "      <td>5.936591e+09</td>\n",
              "      <td>0.000000e+00</td>\n",
              "    </tr>\n",
              "    <tr>\n",
              "      <th>75%</th>\n",
              "      <td>8.434870e+07</td>\n",
              "      <td>9.118277e+09</td>\n",
              "      <td>1.000000e+00</td>\n",
              "    </tr>\n",
              "    <tr>\n",
              "      <th>max</th>\n",
              "      <td>1.737670e+08</td>\n",
              "      <td>2.014599e+10</td>\n",
              "      <td>1.000000e+00</td>\n",
              "    </tr>\n",
              "  </tbody>\n",
              "</table>\n",
              "</div>"
            ],
            "text/plain": [
              "            user_id      tweet_id         label\n",
              "count  4.559301e+06  4.559301e+06  4.559301e+06\n",
              "mean   5.821544e+07  7.809652e+09  4.714523e-01\n",
              "std    3.829647e+07  3.871788e+09  4.991844e-01\n",
              "min    6.140000e+02  5.218033e+06  0.000000e+00\n",
              "25%    2.474197e+07  5.585527e+09  0.000000e+00\n",
              "50%    4.941459e+07  5.936591e+09  0.000000e+00\n",
              "75%    8.434870e+07  9.118277e+09  1.000000e+00\n",
              "max    1.737670e+08  2.014599e+10  1.000000e+00"
            ]
          },
          "metadata": {
            "tags": []
          },
          "execution_count": 87
        }
      ]
    },
    {
      "cell_type": "markdown",
      "metadata": {
        "id": "qNY9xPW0E3ch"
      },
      "source": [
        "Determining top 10 characters that tweets start with"
      ]
    },
    {
      "cell_type": "code",
      "metadata": {
        "id": "l8d9gFVRE1m5"
      },
      "source": [
        "tweets = dataset_sample['tweet']\n",
        "first_chars = tweets.apply(lambda x: x[0])"
      ],
      "execution_count": null,
      "outputs": []
    },
    {
      "cell_type": "code",
      "metadata": {
        "id": "1s_FKkDSFRI-"
      },
      "source": [
        "unique_chars = first_chars.unique()\n",
        "char_counts = {}\n",
        "for char in unique_chars:\n",
        "  count = first_chars[first_chars == char].shape[0]\n",
        "  char_counts[char] = count\n",
        "char_counts\n",
        "\n",
        "# sort by descending frequency\n",
        "sorted_chars = sorted(char_counts, key=char_counts.get, reverse=True)\n",
        "sorted_chars[0:10]"
      ],
      "execution_count": null,
      "outputs": []
    },
    {
      "cell_type": "markdown",
      "metadata": {
        "id": "AT4ext2OC002"
      },
      "source": [
        "Convert to lowercase"
      ]
    },
    {
      "cell_type": "code",
      "metadata": {
        "id": "WNQtdaCeC3Xq"
      },
      "source": [
        "dataset_sample['tweet'] = dataset_sample['tweet'].apply(lambda x: x.lower())"
      ],
      "execution_count": null,
      "outputs": []
    },
    {
      "cell_type": "markdown",
      "metadata": {
        "id": "V6KPrNm7E-hv"
      },
      "source": [
        "# Create 2-grams"
      ]
    },
    {
      "cell_type": "code",
      "metadata": {
        "id": "a9WOPEHB7Kkk",
        "colab": {
          "base_uri": "https://localhost:8080/"
        },
        "outputId": "abe461e0-6e46-4a87-fcb1-c185f9731858"
      },
      "source": [
        "words = []\n",
        "for ii in range(0,len(dataset_sample)):\n",
        "    words.append(str(dataset_sample.iloc[ii]['tweet']).split(\" \"))\n",
        "\n",
        "n_gram_all = []\n",
        "\n",
        "for word in words:\n",
        "    # get n-grams for the instance\n",
        "    n_gram = []\n",
        "    for i in range(len(word)-2+1):\n",
        "        n_gram.append(\"\".join(word[i:i+2]))\n",
        "    n_gram_all.append(n_gram)\n",
        "    \n",
        "n_gram_all[0][:10]\n"
      ],
      "execution_count": null,
      "outputs": [
        {
          "output_type": "execute_result",
          "data": {
            "text/plain": [
              "['iwish',\n",
              " 'wishi',\n",
              " 'ihad',\n",
              " 'hadmore',\n",
              " 'morefree',\n",
              " 'freetime',\n",
              " 'timeid',\n",
              " 'idlove',\n",
              " 'loveto',\n",
              " 'tosee']"
            ]
          },
          "metadata": {
            "tags": []
          },
          "execution_count": 8
        }
      ]
    },
    {
      "cell_type": "markdown",
      "metadata": {
        "id": "dloLhiHNGGjB"
      },
      "source": [
        "# Vectorizing with Hashing Vectorizer"
      ]
    },
    {
      "cell_type": "code",
      "metadata": {
        "id": "DnwOLDkqGK6b",
        "colab": {
          "base_uri": "https://localhost:8080/"
        },
        "outputId": "1e6fe98f-4036-4dbf-ca6b-b9a32d94b483"
      },
      "source": [
        "from sklearn.feature_extraction.text import HashingVectorizer, CountVectorizer\n",
        "\n",
        "# hash vectorizer instance\n",
        "hvec = HashingVectorizer(lowercase=False, analyzer=lambda l:l, n_features=2**12, alternate_sign= False, norm = None)\n",
        "\n",
        "# features matrix X\n",
        "X = hvec.fit_transform(n_gram_all)\n",
        "\n",
        "# alternative\n",
        "#hvec = HashingVectorizer(lowercase=True, n_features=2**12, alternate_sign= False, norm = None, ngram_range=(1,2))\n",
        "#X = hvec.fit_transform(dataset_sample['tweet'])\n",
        "\n",
        "print(X[0])"
      ],
      "execution_count": null,
      "outputs": [
        {
          "output_type": "stream",
          "text": [
            "  (0, 205)\t1.0\n",
            "  (0, 473)\t1.0\n",
            "  (0, 564)\t1.0\n",
            "  (0, 1199)\t1.0\n",
            "  (0, 1252)\t1.0\n",
            "  (0, 1954)\t1.0\n",
            "  (0, 3063)\t1.0\n",
            "  (0, 3167)\t1.0\n",
            "  (0, 3213)\t1.0\n",
            "  (0, 3333)\t1.0\n",
            "  (0, 3511)\t1.0\n"
          ],
          "name": "stdout"
        }
      ]
    },
    {
      "cell_type": "markdown",
      "metadata": {
        "id": "UJBTXTP5uBP8"
      },
      "source": [
        "## Alternative tokenization using CountVectorizer()"
      ]
    },
    {
      "cell_type": "code",
      "metadata": {
        "id": "HjJ3lt-rtj_r"
      },
      "source": [
        "from sklearn.feature_extraction.text import CountVectorizer\n",
        "## Count Vectorizer \n",
        "\n",
        "cvec = CountVectorizer(ngram_range=(1,2), stop_words = 'english', max_features=2**13)\n",
        "\n",
        "# Fit the data and then return the matrix\n",
        "X = cvec.fit_transform(dataset_sample['tweet'])"
      ],
      "execution_count": null,
      "outputs": []
    },
    {
      "cell_type": "markdown",
      "metadata": {
        "id": "ccUAEmZERCXg"
      },
      "source": [
        "Alternative tokenization using TFidfVectorizer()"
      ]
    },
    {
      "cell_type": "code",
      "metadata": {
        "id": "c2a6LeTNRCLm"
      },
      "source": [
        "from sklearn.feature_extraction.text import TfidfVectorizer\n",
        "\n",
        "tfidfvec = TfidfVectorizer(ngram_range=(1,1), stop_words='english', max_features=2**13)\n",
        "\n",
        "# Fit the data and then return the matrix\n",
        "X = tfidfvec.fit_transform(dataset_sample['tweet'])"
      ],
      "execution_count": null,
      "outputs": []
    },
    {
      "cell_type": "markdown",
      "metadata": {
        "id": "yyU1xTZQoiCC"
      },
      "source": [
        "## Split data into training and testing splits"
      ]
    },
    {
      "cell_type": "code",
      "metadata": {
        "id": "OAZVpjGvFsoD"
      },
      "source": [
        "from sklearn.model_selection import train_test_split\n",
        "\n",
        "# test set size of 20% of the data and the random seed 1\n",
        "X_train, X_test, y_train, y_test = train_test_split(X.toarray(), dataset_sample['label'], test_size=0.2, random_state=1)"
      ],
      "execution_count": null,
      "outputs": []
    },
    {
      "cell_type": "code",
      "metadata": {
        "id": "KR0QisgPB_c3"
      },
      "source": [
        "# for large datasets use a train-test split index array\n",
        "split_idx = np.arange(dataset_sample.shape[0])\n",
        "np.random.seed(0)\n",
        "np.random.shuffle(split_idx)\n",
        "split = 8*dataset_sample.shape[0]//10\n",
        "train_idx = split_idx[:split]\n",
        "test_idx = split_idx[split:]\n",
        "\n",
        "X_train = X[train_idx]\n",
        "X_test = X[test_idx]\n",
        "y_train = dataset_sample['label'].iloc[train_idx]\n",
        "y_test = dataset_sample['label'].iloc[test_idx]"
      ],
      "execution_count": null,
      "outputs": []
    },
    {
      "cell_type": "code",
      "metadata": {
        "id": "73B-X3QIwKfP"
      },
      "source": [
        "# Load analysis functions\n",
        "from sklearn.model_selection import GridSearchCV\n",
        "from sklearn.metrics import accuracy_score, precision_score, recall_score, f1_score"
      ],
      "execution_count": null,
      "outputs": []
    },
    {
      "cell_type": "markdown",
      "metadata": {
        "id": "Ud3sg_qg_2FG"
      },
      "source": [
        "## Multinomial Naive Bayes Classifier"
      ]
    },
    {
      "cell_type": "markdown",
      "metadata": {
        "id": "_jMUXbj6E5BJ"
      },
      "source": [
        "Baseline Implementation - Train/Test Split"
      ]
    },
    {
      "cell_type": "code",
      "metadata": {
        "colab": {
          "base_uri": "https://localhost:8080/"
        },
        "id": "GRNHhO06-n8F",
        "outputId": "87682502-b74b-40c2-e1a9-d8ba6639b9ab"
      },
      "source": [
        "from sklearn.naive_bayes import GaussianNB, MultinomialNB, BernoulliNB\n",
        "naive_bayes = MultinomialNB()\n",
        "naive_bayes.fit(X_train, y_train)"
      ],
      "execution_count": null,
      "outputs": [
        {
          "output_type": "execute_result",
          "data": {
            "text/plain": [
              "MultinomialNB(alpha=1.0, class_prior=None, fit_prior=True)"
            ]
          },
          "metadata": {
            "tags": []
          },
          "execution_count": 39
        }
      ]
    },
    {
      "cell_type": "code",
      "metadata": {
        "id": "kD76SsEMDwtC"
      },
      "source": [
        "predictions = naive_bayes.predict(X_test)"
      ],
      "execution_count": null,
      "outputs": []
    },
    {
      "cell_type": "code",
      "metadata": {
        "colab": {
          "base_uri": "https://localhost:8080/"
        },
        "id": "YUCos_pI_5l_",
        "outputId": "772335d6-0aac-4df9-ac2b-60b7dfc4907c"
      },
      "source": [
        "from sklearn.metrics import accuracy_score, precision_score, recall_score, f1_score\n",
        "print('Accuracy score: {}'.format(accuracy_score(y_test, predictions)))\n",
        "print('Precision score: {}'.format(precision_score(y_test, predictions)))\n",
        "print('Recall score: {}'.format(recall_score(y_test, predictions)))\n",
        "print('F1 score: {}'.format(f1_score(y_test, predictions)))"
      ],
      "execution_count": null,
      "outputs": [
        {
          "output_type": "stream",
          "text": [
            "Accuracy score: 0.7759952902276609\n",
            "Precision score: 0.7644890407393251\n",
            "Recall score: 0.7583344188469984\n",
            "F1 score: 0.7613992925764905\n"
          ],
          "name": "stdout"
        }
      ]
    },
    {
      "cell_type": "markdown",
      "metadata": {
        "id": "2YsslltxotH7"
      },
      "source": [
        "Evaluate GAN"
      ]
    },
    {
      "cell_type": "code",
      "metadata": {
        "colab": {
          "base_uri": "https://localhost:8080/"
        },
        "id": "WVjzp4uZpb6g",
        "outputId": "1add7684-8714-4671-f559-be4aad610ab0"
      },
      "source": [
        "generated_tweets_df = pd.read_csv(\"/content/drive/Shareddrives/CSCI 5523 Group Project/Data/GAN data/generated_tweets_1000.csv\")\n",
        "test = tfidfvec.transform(generated_tweets_df['generated tweets'])\n",
        "label = generated_tweets_df['label']\n",
        "gen_predictions = naive_bayes.predict(test)\n",
        "print('Accuracy score: {}'.format(accuracy_score(label, gen_predictions)))\n",
        "print('Precision score: {}'.format(precision_score(label, gen_predictions)))\n",
        "print('Recall score: {}'.format(recall_score(label, gen_predictions)))\n",
        "print('F1 score: {}'.format(f1_score(label, gen_predictions)))"
      ],
      "execution_count": null,
      "outputs": [
        {
          "output_type": "stream",
          "text": [
            "Accuracy score: 0.072\n",
            "Precision score: 1.0\n",
            "Recall score: 0.072\n",
            "F1 score: 0.1343283582089552\n"
          ],
          "name": "stdout"
        }
      ]
    },
    {
      "cell_type": "code",
      "metadata": {
        "colab": {
          "base_uri": "https://localhost:8080/"
        },
        "id": "tJ0lEZo1zyo-",
        "outputId": "1947aa92-93c7-4ffa-94dc-f38cd0fb5493"
      },
      "source": [
        "(gen_predictions == 1).sum()"
      ],
      "execution_count": null,
      "outputs": [
        {
          "output_type": "execute_result",
          "data": {
            "text/plain": [
              "72"
            ]
          },
          "metadata": {
            "tags": []
          },
          "execution_count": 51
        }
      ]
    },
    {
      "cell_type": "markdown",
      "metadata": {
        "id": "CPUTxtIh_7Zg"
      },
      "source": [
        "## Decision Tree Classifier"
      ]
    },
    {
      "cell_type": "markdown",
      "metadata": {
        "id": "t-RClU9REw8i"
      },
      "source": [
        "Baseline Implementation"
      ]
    },
    {
      "cell_type": "code",
      "metadata": {
        "id": "L7LM0C7J_-XS"
      },
      "source": [
        "from sklearn.tree import DecisionTreeClassifier\n",
        "tree = DecisionTreeClassifier(random_state=17)"
      ],
      "execution_count": null,
      "outputs": []
    },
    {
      "cell_type": "markdown",
      "metadata": {
        "id": "OM8WqiR9Eza4"
      },
      "source": [
        "Optimization"
      ]
    },
    {
      "cell_type": "code",
      "metadata": {
        "colab": {
          "base_uri": "https://localhost:8080/"
        },
        "id": "vCEB7hkQse6G",
        "outputId": "bbb5c24c-29d5-4a74-fd9e-f5bb06c82fbc"
      },
      "source": [
        "from sklearn.model_selection import GridSearchCV\n",
        "\n",
        "tree_params = {'max_depth': range(5,12),\n",
        "               'max_features': [5,10,15,20,25,30,40,50]}\n",
        "\n",
        "tree_grid = GridSearchCV(tree, tree_params, cv=5, n_jobs=-1, verbose=True)\n",
        "\n",
        "tree_grid.fit(X_train, y_train)"
      ],
      "execution_count": null,
      "outputs": [
        {
          "output_type": "stream",
          "text": [
            "Fitting 5 folds for each of 56 candidates, totalling 280 fits\n"
          ],
          "name": "stdout"
        },
        {
          "output_type": "stream",
          "text": [
            "[Parallel(n_jobs=-1)]: Using backend LokyBackend with 4 concurrent workers.\n",
            "[Parallel(n_jobs=-1)]: Done  42 tasks      | elapsed:   24.1s\n",
            "[Parallel(n_jobs=-1)]: Done 192 tasks      | elapsed:  1.8min\n",
            "[Parallel(n_jobs=-1)]: Done 280 out of 280 | elapsed:  2.7min finished\n"
          ],
          "name": "stderr"
        },
        {
          "output_type": "execute_result",
          "data": {
            "text/plain": [
              "GridSearchCV(cv=5, error_score=nan,\n",
              "             estimator=DecisionTreeClassifier(ccp_alpha=0.0, class_weight=None,\n",
              "                                              criterion='gini', max_depth=None,\n",
              "                                              max_features=None,\n",
              "                                              max_leaf_nodes=None,\n",
              "                                              min_impurity_decrease=0.0,\n",
              "                                              min_impurity_split=None,\n",
              "                                              min_samples_leaf=1,\n",
              "                                              min_samples_split=2,\n",
              "                                              min_weight_fraction_leaf=0.0,\n",
              "                                              presort='deprecated',\n",
              "                                              random_state=17,\n",
              "                                              splitter='best'),\n",
              "             iid='deprecated', n_jobs=-1,\n",
              "             param_grid={'max_depth': range(5, 12),\n",
              "                         'max_features': [5, 10, 15, 20, 25, 30, 40, 50]},\n",
              "             pre_dispatch='2*n_jobs', refit=True, return_train_score=False,\n",
              "             scoring=None, verbose=True)"
            ]
          },
          "metadata": {
            "tags": []
          },
          "execution_count": 54
        }
      ]
    },
    {
      "cell_type": "code",
      "metadata": {
        "colab": {
          "base_uri": "https://localhost:8080/"
        },
        "id": "ybcWA7H-0nKi",
        "outputId": "7dc67505-4ac7-45b9-87e9-f7fe48c5fed5"
      },
      "source": [
        "tree_grid.best_params_, tree_grid.best_score_"
      ],
      "execution_count": null,
      "outputs": [
        {
          "output_type": "execute_result",
          "data": {
            "text/plain": [
              "({'max_depth': 11, 'max_features': 50}, 0.6981519663586521)"
            ]
          },
          "metadata": {
            "tags": []
          },
          "execution_count": 55
        }
      ]
    },
    {
      "cell_type": "code",
      "metadata": {
        "colab": {
          "base_uri": "https://localhost:8080/"
        },
        "id": "RBC5zziCur48",
        "outputId": "9d1f8d32-ca2d-4eef-b55f-feb8fe593313"
      },
      "source": [
        "predictions = tree_grid.predict(X_test)\n",
        "print('Accuracy score: {}'.format(accuracy_score(y_test, predictions)))\n",
        "print('Precision score: {}'.format(precision_score(y_test, predictions)))\n",
        "print('Recall score: {}'.format(recall_score(y_test, predictions)))\n",
        "print('F1 score: {}'.format(f1_score(y_test, predictions)))"
      ],
      "execution_count": null,
      "outputs": [
        {
          "output_type": "stream",
          "text": [
            "Accuracy score: 0.6982182676896023\n",
            "Precision score: 0.785292847891783\n",
            "Recall score: 0.49504773158658677\n",
            "F1 score: 0.6072719231290528\n"
          ],
          "name": "stdout"
        }
      ]
    },
    {
      "cell_type": "markdown",
      "metadata": {
        "id": "1TtUCEd9D_a0"
      },
      "source": [
        "## kNN Classifier"
      ]
    },
    {
      "cell_type": "code",
      "metadata": {
        "id": "733SjuUfD-yI"
      },
      "source": [
        "from sklearn.neighbors import KNeighborsClassifier\n",
        "#knn = KNeighborsClassifier(n_neighbors=5)"
      ],
      "execution_count": null,
      "outputs": []
    },
    {
      "cell_type": "markdown",
      "metadata": {
        "id": "1Y0RS8Ck2rGk"
      },
      "source": [
        "## Finding optimal neighbors with 5-fold CV"
      ]
    },
    {
      "cell_type": "code",
      "metadata": {
        "colab": {
          "base_uri": "https://localhost:8080/"
        },
        "id": "mpvmwOYc2GBV",
        "outputId": "3aedd828-068e-4694-e571-c6dfe995cbff"
      },
      "source": [
        "from sklearn.pipeline import Pipeline\n",
        "from sklearn.preprocessing import StandardScaler\n",
        "\n",
        "#knn_pipe = Pipeline([('scaler', StandardScaler()), ('knn', KNeighborsClassifier(n_jobs=-1))])\n",
        "knn_pipe = Pipeline([('knn', KNeighborsClassifier(n_jobs=-1))])\n",
        "\n",
        "knn_params = {'knn__n_neighbors': [1]}\n",
        "\n",
        "knn_grid = GridSearchCV(knn_pipe, knn_params,\n",
        "                        cv=3, n_jobs=-1, verbose=True)\n",
        "\n",
        "knn_grid.fit(X_train, y_train)\n",
        "\n",
        "knn_grid.best_params_, knn_grid.best_score_"
      ],
      "execution_count": null,
      "outputs": [
        {
          "output_type": "stream",
          "text": [
            "Fitting 3 folds for each of 1 candidates, totalling 3 fits\n"
          ],
          "name": "stdout"
        },
        {
          "output_type": "stream",
          "text": [
            "[Parallel(n_jobs=-1)]: Using backend LokyBackend with 4 concurrent workers.\n"
          ],
          "name": "stderr"
        }
      ]
    },
    {
      "cell_type": "code",
      "metadata": {
        "id": "jrPWrDOX8ClJ"
      },
      "source": [
        "knn_grid.best_params_, knn_grid.best_score_"
      ],
      "execution_count": null,
      "outputs": []
    },
    {
      "cell_type": "code",
      "metadata": {
        "id": "wCOtU26muwCO"
      },
      "source": [
        "predictions = knn_grid.predict(X_test)\n",
        "print('Accuracy score: {}'.format(accuracy_score(y_test, predictions)))\n",
        "print('Precision score: {}'.format(precision_score(y_test, predictions)))\n",
        "print('Recall score: {}'.format(recall_score(y_test, predictions)))\n",
        "print('F1 score: {}'.format(f1_score(y_test, predictions)))"
      ],
      "execution_count": null,
      "outputs": []
    },
    {
      "cell_type": "markdown",
      "metadata": {
        "id": "pY4v3f4jLOpc"
      },
      "source": [
        "## Random Forest"
      ]
    },
    {
      "cell_type": "code",
      "metadata": {
        "id": "-SOw_SjTLOJ-",
        "colab": {
          "base_uri": "https://localhost:8080/"
        },
        "outputId": "d46f1907-d378-40ce-9e6c-accd6aaf4615"
      },
      "source": [
        "from sklearn.ensemble import RandomForestClassifier\n",
        "\n",
        "rf_params = {'n_estimators': [200],\n",
        "               'max_depth': [150]}\n",
        "\n",
        "rf = RandomForestClassifier()\n",
        "\n",
        "rf_grid = GridSearchCV(rf, rf_params, cv=5, n_jobs=-1, verbose=True)\n",
        "\n",
        "rf_grid.fit(X_train, y_train)\n",
        "\n",
        "rf_grid.best_params_, rf_grid.best_score_ "
      ],
      "execution_count": null,
      "outputs": [
        {
          "output_type": "stream",
          "text": [
            "Fitting 5 folds for each of 1 candidates, totalling 5 fits\n"
          ],
          "name": "stdout"
        },
        {
          "output_type": "stream",
          "text": [
            "[Parallel(n_jobs=-1)]: Using backend LokyBackend with 4 concurrent workers.\n",
            "[Parallel(n_jobs=-1)]: Done   5 out of   5 | elapsed:  3.5min finished\n"
          ],
          "name": "stderr"
        },
        {
          "output_type": "execute_result",
          "data": {
            "text/plain": [
              "({'max_depth': 150, 'n_estimators': 200}, 0.708601736904856)"
            ]
          },
          "metadata": {
            "tags": []
          },
          "execution_count": 48
        }
      ]
    },
    {
      "cell_type": "code",
      "metadata": {
        "colab": {
          "base_uri": "https://localhost:8080/"
        },
        "id": "8l0LQvA_NI9Q",
        "outputId": "294a119b-fb93-47dc-c436-f039c39591f2"
      },
      "source": [
        "predictions = rf_grid.predict(X_test)\n",
        "print('Accuracy score: {}'.format(accuracy_score(y_test, predictions)))\n",
        "print('Precision score: {}'.format(precision_score(y_test, predictions)))\n",
        "print('Recall score: {}'.format(recall_score(y_test, predictions)))\n",
        "print('F1 score: {}'.format(f1_score(y_test, predictions)))"
      ],
      "execution_count": null,
      "outputs": [
        {
          "output_type": "stream",
          "text": [
            "Accuracy score: 0.7443733119935981\n",
            "Precision score: 0.7431657104286197\n",
            "Recall score: 0.7002331990672037\n",
            "F1 score: 0.7210609616329203\n"
          ],
          "name": "stdout"
        }
      ]
    },
    {
      "cell_type": "markdown",
      "metadata": {
        "id": "NtptKFUmLbTf"
      },
      "source": [
        "## Logistic Regression Model"
      ]
    },
    {
      "cell_type": "code",
      "metadata": {
        "id": "0b8UFFF3La3U"
      },
      "source": [
        "from sklearn.linear_model import LogisticRegression"
      ],
      "execution_count": null,
      "outputs": []
    },
    {
      "cell_type": "code",
      "metadata": {
        "colab": {
          "base_uri": "https://localhost:8080/"
        },
        "id": "xF_SLC3Dy7ve",
        "outputId": "0e1b853c-45c5-473c-8706-834fefe3e15f"
      },
      "source": [
        "log_reg = LogisticRegression(max_iter=1000)\n",
        "\n",
        "lgr_params = {'C' : [1.0],#[0.8,1.0,1.2],\n",
        "                  'tol' : [0.0001]}#[0.0001,0.001,0.01]}\n",
        "\n",
        "lgr_grid = GridSearchCV(log_reg, lgr_params, cv=5, n_jobs=-1, verbose=True)\n",
        "\n",
        "lgr_grid.fit(X_train, y_train)\n",
        "lgr_grid.best_params_, lgr_grid.best_score_"
      ],
      "execution_count": null,
      "outputs": [
        {
          "output_type": "stream",
          "text": [
            "Fitting 5 folds for each of 1 candidates, totalling 5 fits\n"
          ],
          "name": "stdout"
        },
        {
          "output_type": "stream",
          "text": [
            "[Parallel(n_jobs=-1)]: Using backend LokyBackend with 4 concurrent workers.\n",
            "[Parallel(n_jobs=-1)]: Done   5 out of   5 | elapsed:  5.4min finished\n"
          ],
          "name": "stderr"
        },
        {
          "output_type": "execute_result",
          "data": {
            "text/plain": [
              "({'C': 1.0, 'tol': 0.0001}, 0.7657677713684118)"
            ]
          },
          "metadata": {
            "tags": []
          },
          "execution_count": 23
        }
      ]
    },
    {
      "cell_type": "code",
      "metadata": {
        "colab": {
          "base_uri": "https://localhost:8080/"
        },
        "id": "4QMATrlYzJVW",
        "outputId": "28b98fd9-8763-4be3-a42e-37f5ebc25e28"
      },
      "source": [
        "predictions = lgr_grid.predict(X_test)\n",
        "print('Accuracy score: {}'.format(accuracy_score(y_test, predictions)))\n",
        "print('Precision score: {}'.format(precision_score(y_test, predictions)))\n",
        "print('Recall score: {}'.format(recall_score(y_test, predictions)))\n",
        "print('F1 score: {}'.format(f1_score(y_test, predictions)))"
      ],
      "execution_count": null,
      "outputs": [
        {
          "output_type": "stream",
          "text": [
            "Accuracy score: 0.7665587189275559\n",
            "Precision score: 0.7744636289592303\n",
            "Recall score: 0.7122406252907788\n",
            "F1 score: 0.7420500180557474\n"
          ],
          "name": "stdout"
        }
      ]
    },
    {
      "cell_type": "markdown",
      "metadata": {
        "id": "uYCsVheD69Zt"
      },
      "source": [
        "## Linear Regression"
      ]
    },
    {
      "cell_type": "code",
      "metadata": {
        "colab": {
          "base_uri": "https://localhost:8080/"
        },
        "id": "yGOKUmn45jhF",
        "outputId": "6f8b40fb-312b-40f9-9d05-99cf7fade7dc"
      },
      "source": [
        "from sklearn.linear_model import LinearRegression\n",
        "\n",
        "lin_reg = LinearRegression()\n",
        "lin_reg.fit(X_train, y_train)\n",
        "pred = lin_reg.predict(X_test)\n",
        "pred[pred < 0.5] = 0\n",
        "pred[pred >= 0.5] = 1\n",
        "print('Accuracy score: {}'.format(accuracy_score(y_test.values, pred)))\n",
        "print('Precision score: {}'.format(precision_score(y_test, pred)))\n",
        "print('Recall score: {}'.format(recall_score(y_test, pred)))\n",
        "print('F1 score: {}'.format(f1_score(y_test, pred)))"
      ],
      "execution_count": null,
      "outputs": [
        {
          "output_type": "stream",
          "text": [
            "Accuracy score: 0.7656430091867071\n",
            "Precision score: 0.7742420821080888\n",
            "Recall score: 0.7098701963338606\n",
            "F1 score: 0.7406601061383293\n"
          ],
          "name": "stdout"
        }
      ]
    }
  ]
}